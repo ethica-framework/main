# ... inside __init__ ...
self.bias_button = Button(
    description='Unfair',
    button_style='danger',
    layout=Layout(width='200px', height='60px', margin='5px')
)

self.not_bias_button = Button(
    description='Fair',
    button_style='success',
    layout=Layout(width='200px', height='60px', margin='5px')
)

# ... in show_scenario ...
self.scenario_display.value = f"""
<div style='border: 2px solid #ddd; padding: 20px; border-radius: 10px; background: #f9f9f9; text-align: center;'>
    <h3>Question {self.current_scenario + 1} of {len(self.scenarios)}</h3>
    <p style='font-size: 16px; line-height: 1.5;'><strong>{scenario['text']}</strong></p>
    <p style='color: #666;'><em>Is this Fair or Unfair?</em></p>
</div>
"""
