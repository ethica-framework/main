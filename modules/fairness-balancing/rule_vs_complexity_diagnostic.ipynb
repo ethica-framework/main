{
  "nbformat": 4,
  "nbformat_minor": 0,
  "metadata": {
    "colab": {
      "private_outputs": true,
      "provenance": []
    },
    "kernelspec": {
      "name": "python3",
      "display_name": "Python 3"
    },
    "language_info": {
      "name": "python"
    }
  },
  "cells": [
    {
      "cell_type": "code",
      "source": [
        "!pip install ipywidgets"
      ],
      "metadata": {
        "collapsed": true,
        "id": "pAQYKyQQwFgC"
      },
      "execution_count": null,
      "outputs": []
    },
    {
      "cell_type": "code",
      "source": [
        "import random\n",
        "import time\n",
        "from IPython.display import display\n",
        "import ipywidgets as widgets\n",
        "from ipywidgets import Button, VBox, HBox, HTML, Layout, RadioButtons"
      ],
      "metadata": {
        "id": "64uu2h3LwJdb"
      },
      "execution_count": null,
      "outputs": []
    },
    {
      "cell_type": "code",
      "source": [
        "# Start the Rule vs. Complexity diagnostic\n",
        "diagnostic = RuleComplexityDiagnostic()\n",
        "widget = diagnostic.start_diagnostic(12)  # 12 scenarios\n",
        "display(widget)"
      ],
      "metadata": {
        "id": "9MaYa_6CwMnP"
      },
      "execution_count": null,
      "outputs": []
    }
  ]
}